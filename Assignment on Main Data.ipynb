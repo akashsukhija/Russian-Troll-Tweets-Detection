{
 "cells": [
  {
   "cell_type": "markdown",
   "metadata": {},
   "source": [
    "# Implementing the SGD Classifier on the Master Data"
   ]
  },
  {
   "cell_type": "code",
   "execution_count": 19,
   "metadata": {},
   "outputs": [],
   "source": [
    "import pandas as pd\n",
    "import numpy as np\n",
    "from sklearn.feature_extraction.text import TfidfVectorizer\n",
    "from sklearn.model_selection import train_test_split\n",
    "from nltk.stem.porter import PorterStemmer\n",
    "from sklearn.metrics import accuracy_score\n",
    "from sklearn.pipeline import Pipeline\n",
    "from sklearn.feature_extraction.text import CountVectorizer\n",
    "from sklearn.feature_extraction.text import TfidfTransformer\n",
    "import nltk\n",
    "from sklearn.metrics import cohen_kappa_score\n",
    "from sklearn.metrics import precision_score\n",
    "from sklearn.linear_model import SGDClassifier\n",
    "from sklearn.metrics import recall_score"
   ]
  },
  {
   "cell_type": "code",
   "execution_count": 2,
   "metadata": {},
   "outputs": [],
   "source": [
    "low_memory=False"
   ]
  },
  {
   "cell_type": "code",
   "execution_count": 3,
   "metadata": {},
   "outputs": [
    {
     "name": "stderr",
     "output_type": "stream",
     "text": [
      "C:\\Users\\akash\\anaconda3\\lib\\site-packages\\IPython\\core\\interactiveshell.py:3063: DtypeWarning: Columns (1,16,21) have mixed types.Specify dtype option on import or set low_memory=False.\n",
      "  interactivity=interactivity, compiler=compiler, result=result)\n"
     ]
    }
   ],
   "source": [
    "df = pd.read_csv('IRAhandle_master_data.csv',encoding=\"latin-1\")"
   ]
  },
  {
   "cell_type": "code",
   "execution_count": 4,
   "metadata": {},
   "outputs": [
    {
     "data": {
      "text/plain": [
       "English                952915\n",
       "Russian                149287\n",
       "German                  51107\n",
       "Italian                 13279\n",
       "Ukrainian                9919\n",
       "Uzbek                    2352\n",
       "Arabic                   2210\n",
       "Bulgarian                2178\n",
       "Serbian                  2133\n",
       "Spanish                  1701\n",
       "French                   1505\n",
       "Norwegian                1423\n",
       "Macedonian               1228\n",
       "Farsi (Persian)          1165\n",
       "Romanian                  993\n",
       "Dutch                     738\n",
       "Swedish                   671\n",
       "Japanese                  544\n",
       "Estonian                  515\n",
       "LANGUAGE UNDEFINED        455\n",
       "Vietnamese                444\n",
       "Finnish                   417\n",
       "Albanian                  337\n",
       "Icelandic                 330\n",
       "Catalan                   300\n",
       "Turkish                   278\n",
       "Lithuanian                273\n",
       "Polish                    250\n",
       "Croatian                  236\n",
       "Pushto                    213\n",
       "Slovak                    189\n",
       "Portuguese                174\n",
       "Greek                     174\n",
       "Somali                    166\n",
       "Kurdish                   142\n",
       "Tagalog (Filipino)        137\n",
       "Latvian                   123\n",
       "Malay                     122\n",
       "Hungarian                 114\n",
       "Czech                     105\n",
       "Indonesian                 94\n",
       "Korean                     91\n",
       "Hindi                      64\n",
       "Danish                     62\n",
       "Urdu                       36\n",
       "Slovenian                  36\n",
       "Hebrew                     31\n",
       "Thai                       30\n",
       "Simplified Chinese         16\n",
       "Traditional Chinese        10\n",
       "Tamil                       9\n",
       "Gujarati                    3\n",
       "Telugu                      2\n",
       "Bengali                     2\n",
       "Malayalam                   1\n",
       "Kannada                     1\n",
       "Name: language, dtype: int64"
      ]
     },
     "execution_count": 4,
     "metadata": {},
     "output_type": "execute_result"
    }
   ],
   "source": [
    "df['language'].value_counts()"
   ]
  },
  {
   "cell_type": "code",
   "execution_count": 5,
   "metadata": {},
   "outputs": [
    {
     "data": {
      "text/plain": [
       "United States           845288\n",
       "Unknown                 260239\n",
       "United Arab Emirates     22262\n",
       "Azerbaijan               20023\n",
       "Italy                    10879\n",
       "Iraq                      9520\n",
       "Germany                   9489\n",
       "Russian Federation        7590\n",
       "Ukraine                   5029\n",
       "Malaysia                  4932\n",
       "Afghanistan               1040\n",
       "United Kingdom            1018\n",
       "Belarus                    989\n",
       "Israel                     930\n",
       "France                     120\n",
       "Japan                       38\n",
       "Samoa                       32\n",
       "Egypt                       32\n",
       "India                       22\n",
       "Turkey                       9\n",
       "Saudi Arabia                 7\n",
       "Spain                        6\n",
       "Hong Kong                    3\n",
       "Serbia                       2\n",
       "Austria                      1\n",
       "Name: region, dtype: int64"
      ]
     },
     "execution_count": 5,
     "metadata": {},
     "output_type": "execute_result"
    }
   ],
   "source": [
    "df['region'].value_counts()"
   ]
  },
  {
   "cell_type": "code",
   "execution_count": 6,
   "metadata": {},
   "outputs": [
    {
     "name": "stdout",
     "output_type": "stream",
     "text": [
      "<class 'pandas.core.frame.DataFrame'>\n",
      "RangeIndex: 1201330 entries, 0 to 1201329\n",
      "Data columns (total 22 columns):\n",
      " #   Column              Non-Null Count    Dtype  \n",
      "---  ------              --------------    -----  \n",
      " 0   Unnamed: 0          1201330 non-null  int64  \n",
      " 1   external_author_id  1201330 non-null  object \n",
      " 2   author              1201330 non-null  object \n",
      " 3   content             1201330 non-null  object \n",
      " 4   region              1199500 non-null  object \n",
      " 5   language            1201330 non-null  object \n",
      " 6   publish_date        1201330 non-null  object \n",
      " 7   harvested_date      1201330 non-null  object \n",
      " 8   following           1201330 non-null  int64  \n",
      " 9   followers           1201330 non-null  int64  \n",
      " 10  updates             1201330 non-null  int64  \n",
      " 11  post_type           547006 non-null   object \n",
      " 12  account_type        1201330 non-null  object \n",
      " 13  retweet             1201330 non-null  int64  \n",
      " 14  account_category    1201330 non-null  object \n",
      " 15  new_june_2018       1201330 non-null  int64  \n",
      " 16  alt_external_id     1201330 non-null  object \n",
      " 17  tweet_id            1201330 non-null  float64\n",
      " 18  article_url         1201330 non-null  object \n",
      " 19  tco1_step1          903381 non-null   object \n",
      " 20  tco2_step1          289681 non-null   object \n",
      " 21  tco3_step1          8168 non-null     object \n",
      "dtypes: float64(1), int64(6), object(15)\n",
      "memory usage: 201.6+ MB\n"
     ]
    }
   ],
   "source": [
    "df.info()"
   ]
  },
  {
   "cell_type": "code",
   "execution_count": 7,
   "metadata": {},
   "outputs": [],
   "source": [
    "df.drop(columns = ['retweet','region','language','new_june_2018','alt_external_id','post_type','account_type','tweet_id','article_url','tco1_step1','tco2_step1','tco3_step1','Unnamed: 0','external_author_id','author','publish_date','harvested_date','following','followers','updates'],  inplace= True)"
   ]
  },
  {
   "cell_type": "markdown",
   "metadata": {},
   "source": [
    "## Data Pre-Processing as requested\n",
    "\n",
    "## I am unsure as to how exploring Language/Region Specific Models will help here as there is no balance between observations representing different languages or different regions. \n",
    "\n",
    "## One key point to highlight here is that the language column has 'Language Undefined' values and the region column has a significantly huge number of instances with 'Unknown'. So I am lacked by my knowledge on how to deal with such values and how the algorithm shall behave in case of such data. \n"
   ]
  },
  {
   "cell_type": "code",
   "execution_count": 8,
   "metadata": {},
   "outputs": [],
   "source": [
    "df['troll'] = np.where (df['account_category'] == 'RightTroll', 1, 0)\n"
   ]
  },
  {
   "cell_type": "code",
   "execution_count": 9,
   "metadata": {},
   "outputs": [],
   "source": [
    "df['troll'] = np.where (df['account_category'] == 'LeftTroll', 1,df['troll'])"
   ]
  },
  {
   "cell_type": "code",
   "execution_count": 10,
   "metadata": {},
   "outputs": [],
   "source": [
    "df.drop(columns = ['account_category'],  inplace= True)"
   ]
  },
  {
   "cell_type": "code",
   "execution_count": 11,
   "metadata": {},
   "outputs": [
    {
     "data": {
      "text/plain": [
       "<matplotlib.axes._subplots.AxesSubplot at 0x27be8dd1388>"
      ]
     },
     "execution_count": 11,
     "metadata": {},
     "output_type": "execute_result"
    },
    {
     "data": {
      "image/png": "[encoded data removed]",
      "text/plain": [
       "<Figure size 432x288 with 1 Axes>"
      ]
     },
     "metadata": {
      "needs_background": "light"
     },
     "output_type": "display_data"
    }
   ],
   "source": [
    "df['troll'].value_counts().plot(kind='bar')"
   ]
  },
  {
   "cell_type": "code",
   "execution_count": 12,
   "metadata": {},
   "outputs": [],
   "source": [
    "vectorizer = TfidfVectorizer()\n",
    "stemmer = PorterStemmer()\n",
    "X = df['content']\n",
    "y = df['troll']\n",
    "stop_words = set(nltk.corpus.stopwords.words('english'))"
   ]
  },
  {
   "cell_type": "code",
   "execution_count": 13,
   "metadata": {},
   "outputs": [],
   "source": [
    "def tokenize(text):\n",
    "   tokens = [word for word in nltk.word_tokenize(text)] \n",
    "   tokens = map(str.lower, tokens)\n",
    "   stems = [stemmer.stem(item) for item in tokens if (item not in stop_words)]\n",
    "   return stems"
   ]
  },
  {
   "cell_type": "code",
   "execution_count": 14,
   "metadata": {},
   "outputs": [],
   "source": [
    "vectorizer_tf = TfidfVectorizer(tokenizer=tokenize, stop_words=None, max_df=0.75, max_features=1000, lowercase=False, ngram_range=(1,2))"
   ]
  },
  {
   "cell_type": "code",
   "execution_count": 15,
   "metadata": {},
   "outputs": [],
   "source": [
    "sgd = Pipeline([\n",
    "    ('vect', CountVectorizer()),\n",
    "    ('tfidf', TfidfTransformer()),\n",
    "    ('clf', SGDClassifier()),])"
   ]
  },
  {
   "cell_type": "markdown",
   "metadata": {},
   "source": [
    "# Performing a Simple 75-25 Split of Data as the dataset is too large for K-Fold Cross Validation"
   ]
  },
  {
   "cell_type": "code",
   "execution_count": 16,
   "metadata": {},
   "outputs": [],
   "source": [
    "X_train, X_test, y_train, y_test = train_test_split(X, y, test_size=0.25, random_state=42)"
   ]
  },
  {
   "cell_type": "code",
   "execution_count": 17,
   "metadata": {},
   "outputs": [],
   "source": [
    "final_model = sgd.fit(X_train,y_train)\n",
    "predictions = final_model.predict(X_test)"
   ]
  },
  {
   "cell_type": "code",
   "execution_count": 18,
   "metadata": {},
   "outputs": [
    {
     "name": "stdout",
     "output_type": "stream",
     "text": [
      "Accuracy 0.8575980661465773\n",
      "Kappa Score: 0.7130337768606705\n",
      "Precision 0.8393776746210198\n",
      "Recall Score: 0.8487473230263737\n"
     ]
    }
   ],
   "source": [
    "print('Accuracy',accuracy_score(y_test, predictions))\n",
    "print('Kappa Score:',cohen_kappa_score(y_test, predictions))\n",
    "print('Precision', precision_score(y_test, predictions))\n",
    "print('Recall Score:', recall_score(y_test, predictions))"
   ]
  },
  {
   "cell_type": "markdown",
   "metadata": {},
   "source": [
    "# Final Metrics\n",
    "# Accuracy 0.8575980661465773\n",
    "# Kappa Score: 0.7130337768606705\n",
    "# Precision 0.8393776746210198\n",
    "# Recall Score: 0.8487473230263737"
   ]
  }
 ],
 "metadata": {
  "kernelspec": {
   "display_name": "Python 3",
   "language": "python",
   "name": "python3"
  },
  "language_info": {
   "codemirror_mode": {
    "name": "ipython",
    "version": 3
   },
   "file_extension": ".py",
   "mimetype": "text/x-python",
   "name": "python",
   "nbconvert_exporter": "python",
   "pygments_lexer": "ipython3",
   "version": "3.7.6"
  }
 },
 "nbformat": 4,
 "nbformat_minor": 4
}
