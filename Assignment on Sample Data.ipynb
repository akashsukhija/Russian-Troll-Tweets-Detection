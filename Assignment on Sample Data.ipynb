{
 "cells": [
  {
   "cell_type": "markdown",
   "metadata": {},
   "source": [
    "# Assignment 4: Troll Tweet prediction"
   ]
  },
  {
   "cell_type": "code",
   "execution_count": 1,
   "metadata": {},
   "outputs": [],
   "source": [
    "import pandas as pd\n",
    "import numpy as np\n",
    "import csv\n",
    "from sklearn.feature_extraction.text import TfidfVectorizer\n",
    "import nltk\n",
    "from sklearn.model_selection import train_test_split\n",
    "from sklearn.naive_bayes  import MultinomialNB\n",
    "from sklearn.model_selection import KFold\n",
    "from nltk.stem.porter import PorterStemmer\n",
    "from sklearn.metrics import accuracy_score\n",
    "from sklearn.metrics import cohen_kappa_score\n",
    "from sklearn.metrics import precision_score\n",
    "from sklearn.metrics import recall_score\n",
    "import statistics\n",
    "from sklearn.linear_model import SGDClassifier\n",
    "from sklearn.pipeline import Pipeline\n",
    "from sklearn.preprocessing import StandardScaler\n",
    "from sklearn.feature_extraction.text import CountVectorizer\n",
    "from sklearn.feature_extraction.text import TfidfTransformer\n",
    "from sklearn.svm import SVC\n",
    "from sklearn.svm import LinearSVC"
   ]
  },
  {
   "cell_type": "markdown",
   "metadata": {},
   "source": [
    "## Prototyping different Models with Sample Data "
   ]
  },
  {
   "cell_type": "code",
   "execution_count": 2,
   "metadata": {},
   "outputs": [],
   "source": [
    "df = pd.read_csv('IRAhandle_tweets_sample_data.csv',encoding=\"latin-1\")"
   ]
  },
  {
   "cell_type": "code",
   "execution_count": 3,
   "metadata": {},
   "outputs": [
    {
     "data": {
      "text/plain": [
       "0    6631\n",
       "1    5383\n",
       "Name: troll, dtype: int64"
      ]
     },
     "execution_count": 3,
     "metadata": {},
     "output_type": "execute_result"
    }
   ],
   "source": [
    "df['troll'].value_counts()\n"
   ]
  },
  {
   "cell_type": "code",
   "execution_count": 4,
   "metadata": {},
   "outputs": [
    {
     "data": {
      "text/plain": [
       "RightTroll      3630\n",
       "NonEnglish      2429\n",
       "LeftTroll       1753\n",
       "NewsFeed        1573\n",
       "HashtagGamer    1310\n",
       "Commercial      1254\n",
       "Fearmonger        46\n",
       "Unknown           19\n",
       "Name: account_category, dtype: int64"
      ]
     },
     "execution_count": 4,
     "metadata": {},
     "output_type": "execute_result"
    }
   ],
   "source": [
    "df['account_category'].value_counts()\n"
   ]
  },
  {
   "cell_type": "code",
   "execution_count": 5,
   "metadata": {},
   "outputs": [],
   "source": [
    "vectorizer = TfidfVectorizer()"
   ]
  },
  {
   "cell_type": "code",
   "execution_count": 6,
   "metadata": {},
   "outputs": [],
   "source": [
    "df.drop(columns = ['account_category'], inplace = True)"
   ]
  },
  {
   "cell_type": "code",
   "execution_count": 7,
   "metadata": {
    "scrolled": true
   },
   "outputs": [
    {
     "data": {
      "text/plain": [
       "<matplotlib.axes._subplots.AxesSubplot at 0x24d4ec03a48>"
      ]
     },
     "execution_count": 7,
     "metadata": {},
     "output_type": "execute_result"
    },
    {
     "data": {
      "image/png": "[encoded data removed]",
      "text/plain": [
       "<Figure size 432x288 with 1 Axes>"
      ]
     },
     "metadata": {
      "needs_background": "light"
     },
     "output_type": "display_data"
    }
   ],
   "source": [
    "df['troll'].value_counts().plot(kind='bar')"
   ]
  },
  {
   "cell_type": "markdown",
   "metadata": {},
   "source": [
    "## The number of Non-Trolls is higher than the Trolls, this makes the dataset unbalanced and shall introduce bias while fitting the model.\n",
    "\n",
    "## Using Accuracy might prove to be unfruitful, we shall also check other metrics such as Precision and Cohen's Kappa Score to better evaluate our models"
   ]
  },
  {
   "cell_type": "markdown",
   "metadata": {},
   "source": [
    "## Using the Porter Stemmer to reduce words to their stems"
   ]
  },
  {
   "cell_type": "code",
   "execution_count": 8,
   "metadata": {},
   "outputs": [],
   "source": [
    "stemmer = PorterStemmer()"
   ]
  },
  {
   "cell_type": "code",
   "execution_count": 9,
   "metadata": {},
   "outputs": [],
   "source": [
    "X = df['content']\n",
    "y = df['troll']"
   ]
  },
  {
   "cell_type": "markdown",
   "metadata": {},
   "source": [
    "## Loading English Stop Words from the NLTK Corpus"
   ]
  },
  {
   "cell_type": "code",
   "execution_count": 10,
   "metadata": {},
   "outputs": [],
   "source": [
    "stop_words = set(nltk.corpus.stopwords.words('english'))"
   ]
  },
  {
   "cell_type": "markdown",
   "metadata": {},
   "source": [
    "## Created a Tokenize Function to tokenize the text corpus, stem the text data using Porter Stemmer and Removed the stop words from the given text"
   ]
  },
  {
   "cell_type": "code",
   "execution_count": 11,
   "metadata": {},
   "outputs": [],
   "source": [
    "def tokenize(text):\n",
    "   tokens = [word for word in nltk.word_tokenize(text)] \n",
    "   tokens = map(str.lower, tokens)\n",
    "   stems = [stemmer.stem(item) for item in tokens if (item not in stop_words)]\n",
    "   return stems"
   ]
  },
  {
   "cell_type": "markdown",
   "metadata": {},
   "source": [
    "## Initializing TFIDF Vectorizer to extract text features"
   ]
  },
  {
   "cell_type": "code",
   "execution_count": 12,
   "metadata": {},
   "outputs": [],
   "source": [
    "vectorizer_tf = TfidfVectorizer(tokenizer=tokenize, stop_words=None, max_df=0.75, max_features=1000, lowercase=False, ngram_range=(1,2))"
   ]
  },
  {
   "cell_type": "code",
   "execution_count": 13,
   "metadata": {},
   "outputs": [],
   "source": [
    "kf = KFold(n_splits=4,shuffle=True)"
   ]
  },
  {
   "cell_type": "markdown",
   "metadata": {},
   "source": [
    "# Trial 1 : Training the Multinomial NB Classifier"
   ]
  },
  {
   "cell_type": "code",
   "execution_count": 14,
   "metadata": {},
   "outputs": [],
   "source": [
    "mnb = MultinomialNB()"
   ]
  },
  {
   "cell_type": "code",
   "execution_count": 15,
   "metadata": {},
   "outputs": [
    {
     "name": "stdout",
     "output_type": "stream",
     "text": [
      "Accuracy 0.7936085219707057\n",
      "Kappa Score: 0.5929226131567076\n",
      "Precision 0.7109004739336493\n",
      "Recall Score: 0.9009009009009009\n",
      "---------------------------------------- \n",
      "Accuracy 0.8052596537949401\n",
      "Kappa Score: 0.61427092652767\n",
      "Precision 0.7372732592159157\n",
      "Recall Score: 0.9025787965616046\n",
      "---------------------------------------- \n",
      "Accuracy 0.7968697968697969\n",
      "Kappa Score: 0.59864517028051\n",
      "Precision 0.7176258992805755\n",
      "Recall Score: 0.8959580838323353\n",
      "---------------------------------------- \n",
      "Accuracy 0.7828837828837829\n",
      "Kappa Score: 0.5723279946668671\n",
      "Precision 0.6972205795387345\n",
      "Recall Score: 0.8938589840788476\n",
      "---------------------------------------- \n"
     ]
    }
   ],
   "source": [
    "acc_mnb=[]\n",
    "kp_mnb = []\n",
    "prc_mnb= []\n",
    "rcs_mnb = []\n",
    "for train_index, test_index in kf.split(X):\n",
    "    X_train, X_test = X.iloc[train_index], X.iloc[test_index]\n",
    "    y_train, y_test =  y.iloc[train_index], y.iloc[test_index]\n",
    "    train_vectors = vectorizer_tf.fit_transform(X_train)\n",
    "    test_vectors = vectorizer_tf.transform(X_test)\n",
    "    train_df=pd.DataFrame(train_vectors.toarray(), columns=vectorizer_tf.get_feature_names())\n",
    "    test_df=pd.DataFrame(test_vectors.toarray(), columns=vectorizer_tf.get_feature_names())\n",
    "    model = mnb.fit(train_df,y_train)\n",
    "    predictions = model.predict(test_df)\n",
    "    print('Accuracy',accuracy_score(y_test, predictions))\n",
    "    acc_mnb.append(accuracy_score(y_test, predictions))\n",
    "    print('Kappa Score:',cohen_kappa_score(y_test, predictions))\n",
    "    kp_mnb.append(cohen_kappa_score(y_test, predictions))\n",
    "    print('Precision', precision_score(y_test, predictions))\n",
    "    prc_mnb.append(precision_score(y_test, predictions))\n",
    "    print('Recall Score:', recall_score(y_test, predictions))\n",
    "    rcs_mnb.append(recall_score(y_test, predictions))\n",
    "    print('---------------------------------------- ')"
   ]
  },
  {
   "cell_type": "code",
   "execution_count": 16,
   "metadata": {},
   "outputs": [
    {
     "name": "stdout",
     "output_type": "stream",
     "text": [
      "Mean Accuracy of Multinomial Classifier: 0.7946554388798064\n",
      "Mean Kappa of Multinomial Classifier: 0.5945416761579387\n",
      "Mean Precision of Multinomial Classifier: 0.7157550529922188\n",
      "Mean Recall of Multinomial Classifier: 0.8983241913434221\n"
     ]
    }
   ],
   "source": [
    "print('Mean Accuracy of Multinomial Classifier:', statistics.mean(acc_mnb))\n",
    "print('Mean Kappa of Multinomial Classifier:', statistics.mean(kp_mnb))\n",
    "print('Mean Precision of Multinomial Classifier:', statistics.mean(prc_mnb))\n",
    "print('Mean Recall of Multinomial Classifier:', statistics.mean(rcs_mnb))"
   ]
  },
  {
   "cell_type": "markdown",
   "metadata": {},
   "source": [
    "## Mean Accuracy of Multinomial Classifier: 0.7946554388798064\n",
    "## Mean Kappa of Multinomial Classifier: 0.5945416761579387\n",
    "## Mean Precision of Multinomial Classifier: 0.7157550529922188\n",
    "## Mean Recall of Multinomial Classifier: 0.8983241913434221"
   ]
  },
  {
   "cell_type": "markdown",
   "metadata": {},
   "source": [
    "# Trial 2 : Training the LinearSVC Classifier"
   ]
  },
  {
   "cell_type": "code",
   "execution_count": 18,
   "metadata": {},
   "outputs": [],
   "source": [
    "lsvc = Pipeline([\n",
    "    ('vect', CountVectorizer()),\n",
    "    ('tfidf', TfidfTransformer()),\n",
    "    ('clf', LinearSVC()),])"
   ]
  },
  {
   "cell_type": "code",
   "execution_count": 19,
   "metadata": {},
   "outputs": [
    {
     "name": "stdout",
     "output_type": "stream",
     "text": [
      "Accuracy 0.8485352862849534\n",
      "Kappa Score: 0.6963866362317308\n",
      "Precision 0.8039482641252553\n",
      "Recall Score: 0.8761127596439169\n",
      "---------------------------------------- \n",
      "Accuracy 0.8518641810918774\n",
      "Kappa Score: 0.7021519885350864\n",
      "Precision 0.79750346740638\n",
      "Recall Score: 0.8825786646201075\n",
      "---------------------------------------- \n",
      "Accuracy 0.8488178488178488\n",
      "Kappa Score: 0.696331013321359\n",
      "Precision 0.8090277777777778\n",
      "Recall Score: 0.8668154761904762\n",
      "---------------------------------------- \n",
      "Accuracy 0.8524808524808525\n",
      "Kappa Score: 0.7040902190414227\n",
      "Precision 0.8274428274428275\n",
      "Recall Score: 0.8602305475504323\n",
      "---------------------------------------- \n"
     ]
    }
   ],
   "source": [
    "acc_lsvc = []\n",
    "kp_lsv = []\n",
    "prc_lsv= []\n",
    "rcs_lsv = []\n",
    "for train_index, test_index in kf.split(X):\n",
    "    X_train, X_test = X.iloc[train_index], X.iloc[test_index]\n",
    "    y_train, y_test =  y.iloc[train_index], y.iloc[test_index]\n",
    "    model2 = lsvc.fit(X_train,y_train)\n",
    "    predictions = model2.predict(X_test)\n",
    "    print('Accuracy',accuracy_score(y_test, predictions))\n",
    "    acc_lsvc.append(accuracy_score(y_test, predictions))\n",
    "    print('Kappa Score:',cohen_kappa_score(y_test, predictions))\n",
    "    kp_lsv.append(cohen_kappa_score(y_test, predictions))\n",
    "    print('Precision', precision_score(y_test, predictions))\n",
    "    prc_lsv.append(precision_score(y_test, predictions))\n",
    "    print('Recall Score:', recall_score(y_test, predictions))\n",
    "    rcs_lsv.append(recall_score(y_test, predictions))\n",
    "    print('---------------------------------------- ')"
   ]
  },
  {
   "cell_type": "code",
   "execution_count": 20,
   "metadata": {},
   "outputs": [
    {
     "name": "stdout",
     "output_type": "stream",
     "text": [
      "Mean Accuracy of LinearSVC Classifier: 0.8504245421688831\n",
      "Mean Kappa of LinearSVC Classifier: 0.6997399642823997\n",
      "Mean Precision of LinearSVC Classifier: 0.8094805841880601\n",
      "Mean Recall of LinearSVC Classifier: 0.8714343620012333\n"
     ]
    }
   ],
   "source": [
    "print('Mean Accuracy of LinearSVC Classifier:',statistics.mean(acc_lsvc))\n",
    "print('Mean Kappa of LinearSVC Classifier:', statistics.mean(kp_lsv))\n",
    "print('Mean Precision of LinearSVC Classifier:', statistics.mean(prc_lsv))\n",
    "print('Mean Recall of LinearSVC Classifier:', statistics.mean(rcs_lsv))"
   ]
  },
  {
   "cell_type": "markdown",
   "metadata": {},
   "source": [
    "## Mean Accuracy of LinearSVC Classifier: 0.8504245421688831\n",
    "## Mean Kappa of LinearSVC Classifier: 0.6997399642823997\n",
    "## Mean Precision of LinearSVC Classifier: 0.8094805841880601\n",
    "## Mean Recall of LinearSVC Classifier: 0.8714343620012333"
   ]
  },
  {
   "cell_type": "markdown",
   "metadata": {},
   "source": [
    "# Trial 3 : Training the Stochastic Gradient Descent Classifier"
   ]
  },
  {
   "cell_type": "code",
   "execution_count": 21,
   "metadata": {},
   "outputs": [],
   "source": [
    "sgd = Pipeline([\n",
    "    ('vect', CountVectorizer()),\n",
    "    ('tfidf', TfidfTransformer()),\n",
    "    ('clf', SGDClassifier()),])"
   ]
  },
  {
   "cell_type": "code",
   "execution_count": 22,
   "metadata": {},
   "outputs": [
    {
     "name": "stdout",
     "output_type": "stream",
     "text": [
      "Accuracy 0.859520639147803\n",
      "Kappa Score: 0.7175821218456317\n",
      "Precision 0.8394886363636364\n",
      "Recall Score: 0.8577648766328012\n",
      "---------------------------------------- \n",
      "Accuracy 0.8438748335552596\n",
      "Kappa Score: 0.6867206796780565\n",
      "Precision 0.7862021857923497\n",
      "Recall Score: 0.8806426931905126\n",
      "---------------------------------------- \n",
      "Accuracy 0.8478188478188479\n",
      "Kappa Score: 0.6947973230375291\n",
      "Precision 0.8130584192439863\n",
      "Recall Score: 0.8647660818713451\n",
      "---------------------------------------- \n",
      "Accuracy 0.8508158508158508\n",
      "Kappa Score: 0.7005039596832253\n",
      "Precision 0.8037190082644629\n",
      "Recall Score: 0.8774436090225564\n",
      "---------------------------------------- \n"
     ]
    }
   ],
   "source": [
    "acc_sgd = []\n",
    "kp_sgd = []\n",
    "prc_sgd= []\n",
    "rcs_sgd = []\n",
    "for train_index, test_index in kf.split(X):\n",
    "    X_train, X_test = X.iloc[train_index], X.iloc[test_index]\n",
    "    y_train, y_test =  y.iloc[train_index], y.iloc[test_index]\n",
    "    model3 = sgd.fit(X_train,y_train)\n",
    "    predictions = model3.predict(X_test)\n",
    "    print('Accuracy',accuracy_score(y_test, predictions))\n",
    "    acc_sgd.append(accuracy_score(y_test, predictions))\n",
    "    print('Kappa Score:',cohen_kappa_score(y_test, predictions))\n",
    "    kp_sgd.append(cohen_kappa_score(y_test, predictions))\n",
    "    print('Precision', precision_score(y_test, predictions))\n",
    "    prc_sgd.append(precision_score(y_test, predictions))\n",
    "    print('Recall Score:', recall_score(y_test, predictions))\n",
    "    rcs_sgd.append(recall_score(y_test, predictions))\n",
    "    print('---------------------------------------- ')"
   ]
  },
  {
   "cell_type": "code",
   "execution_count": 23,
   "metadata": {},
   "outputs": [
    {
     "name": "stdout",
     "output_type": "stream",
     "text": [
      "Mean Accuracy of SGD Classifier: 0.8505075428344403\n",
      "Mean Kappa of SGD Classifier: 0.6999010210611106\n",
      "Mean Precision of SGD Classifier: 0.8106170624161088\n",
      "Mean Recall of SGD Classifier: 0.8701543151793039\n"
     ]
    }
   ],
   "source": [
    "print('Mean Accuracy of SGD Classifier:',statistics.mean(acc_sgd))\n",
    "print('Mean Kappa of SGD Classifier:', statistics.mean(kp_sgd))\n",
    "print('Mean Precision of SGD Classifier:', statistics.mean(prc_sgd))\n",
    "print('Mean Recall of SGD Classifier:', statistics.mean(rcs_sgd))"
   ]
  },
  {
   "cell_type": "markdown",
   "metadata": {},
   "source": [
    "## Mean Accuracy of SGD Classifier: 0.8505075428344403\n",
    "## Mean Kappa of SGD Classifier: 0.6999010210611106\n",
    "## Mean Precision of SGD Classifier: 0.8106170624161088\n",
    "## Mean Recall of SGD Classifier: 0.8701543151793039"
   ]
  },
  {
   "cell_type": "code",
   "execution_count": 24,
   "metadata": {},
   "outputs": [],
   "source": [
    "svc = Pipeline([\n",
    "    ('vect', CountVectorizer()),\n",
    "    ('tfidf', TfidfTransformer()),\n",
    "    ('clf', SVC()),])"
   ]
  },
  {
   "cell_type": "code",
   "execution_count": 25,
   "metadata": {},
   "outputs": [
    {
     "name": "stdout",
     "output_type": "stream",
     "text": [
      "Accuracy 0.8495339547270306\n",
      "Kappa Score: 0.6973643797878577\n",
      "Precision 0.8160676532769556\n",
      "Recall Score: 0.8584136397331357\n",
      "---------------------------------------- \n",
      "Accuracy 0.8545272969374168\n",
      "Kappa Score: 0.7061765356286254\n",
      "Precision 0.824\n",
      "Recall Score: 0.8531626506024096\n",
      "---------------------------------------- \n",
      "Accuracy 0.8528138528138528\n",
      "Kappa Score: 0.7033299792002023\n",
      "Precision 0.8269646719538573\n",
      "Recall Score: 0.8502594514455152\n",
      "---------------------------------------- \n",
      "Accuracy 0.8561438561438561\n",
      "Kappa Score: 0.7108700535960717\n",
      "Precision 0.8245614035087719\n",
      "Recall Score: 0.8658806190125277\n",
      "---------------------------------------- \n"
     ]
    }
   ],
   "source": [
    "acc_svc = []\n",
    "kp_svc = []\n",
    "prc_svc= []\n",
    "rcs_svc = []\n",
    "for train_index, test_index in kf.split(X):\n",
    "    X_train, X_test = X.iloc[train_index], X.iloc[test_index]\n",
    "    y_train, y_test =  y.iloc[train_index], y.iloc[test_index]\n",
    "    train_vectors = vectorizer_tf.fit_transform(X_train)\n",
    "    test_vectors = vectorizer_tf.transform(X_test)\n",
    "    #train_df=pd.DataFrame(train_vectors.toarray(), columns=vectorizer_tf.get_feature_names())\n",
    "    #test_df=pd.DataFrame(test_vectors.toarray(), columns=vectorizer_tf.get_feature_names())\n",
    "    model4 = svc.fit(X_train,y_train)\n",
    "    predictions = model4.predict(X_test)\n",
    "    print('Accuracy',accuracy_score(y_test, predictions))\n",
    "    acc_svc.append(accuracy_score(y_test, predictions))\n",
    "    print('Kappa Score:',cohen_kappa_score(y_test, predictions))\n",
    "    kp_svc.append(cohen_kappa_score(y_test, predictions))\n",
    "    print('Precision', precision_score(y_test, predictions))\n",
    "    prc_svc.append(precision_score(y_test, predictions))\n",
    "    print('Recall Score:', recall_score(y_test, predictions))\n",
    "    rcs_svc.append(recall_score(y_test, predictions))\n",
    "    print('---------------------------------------- ')"
   ]
  },
  {
   "cell_type": "code",
   "execution_count": 27,
   "metadata": {},
   "outputs": [
    {
     "name": "stdout",
     "output_type": "stream",
     "text": [
      "Mean Accuracy of SVC Classifier: 0.853254740155539\n",
      "Mean Kappa of SVC Classifier: 0.7044352370531892\n",
      "Mean Precision of SVC Classifier: 0.8228984321848962\n",
      "Mean Recall of SVC Classifier: 0.856929090198397\n"
     ]
    }
   ],
   "source": [
    "print('Mean Accuracy of SVC Classifier:',statistics.mean(acc_svc))\n",
    "print('Mean Kappa of SVC Classifier:', statistics.mean(kp_svc))\n",
    "print('Mean Precision of SVC Classifier:', statistics.mean(prc_svc))\n",
    "print('Mean Recall of SVC Classifier:', statistics.mean(rcs_svc))"
   ]
  },
  {
   "cell_type": "markdown",
   "metadata": {},
   "source": [
    "## Mean Accuracy of SVC Classifier: 0.853254740155539\n",
    "## Mean Kappa of SVC Classifier: 0.7044352370531892\n",
    "## Mean Precision of SVC Classifier: 0.8228984321848962\n",
    "## Mean Recall of SVC Classifier: 0.856929090198397"
   ]
  },
  {
   "cell_type": "markdown",
   "metadata": {},
   "source": [
    "# ________________________________________________________\n",
    "# There is a tough competition between the SVC and the SGD Models. \n",
    "# However, the SVC model has better kappa, precision and accuracy scores when compared to the SGD model. \n",
    "# After a few trials, my system could not train the SVC model on the Master Data, the cell was just running and there was no output for more than an hour which was absurd. So I went ahead and trained the model with closest accuracy, SGD Model on the Master Data"
   ]
  }
 ],
 "metadata": {
  "kernelspec": {
   "display_name": "Python 3",
   "language": "python",
   "name": "python3"
  },
  "language_info": {
   "codemirror_mode": {
    "name": "ipython",
    "version": 3
   },
   "file_extension": ".py",
   "mimetype": "text/x-python",
   "name": "python",
   "nbconvert_exporter": "python",
   "pygments_lexer": "ipython3",
   "version": "3.7.6"
  }
 },
 "nbformat": 4,
 "nbformat_minor": 4
}
